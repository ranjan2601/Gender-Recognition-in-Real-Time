{
 "cells": [
  {
   "cell_type": "code",
   "execution_count": 2,
   "id": "1bac2c9b",
   "metadata": {},
   "outputs": [],
   "source": [
    "from tensorflow.keras.preprocessing.image import ImageDataGenerator,img_to_array\n",
    "from tensorflow.keras.optimizers import Adam\n",
    "from tensorflow.keras.utils import to_categorical,plot_model\n",
    "from tensorflow.keras.models import Sequential\n",
    "from tensorflow.keras.layers import BatchNormalization,Conv2D,MaxPooling2D,Activation,Flatten,Dropout,Dense\n",
    "from tensorflow.keras import backend as K\n",
    "from sklearn.model_selection import train_test_split\n",
    "import numpy as np\n",
    "import random\n",
    "import os\n",
    "import glob\n",
    "import cv2"
   ]
  },
  {
   "cell_type": "code",
   "execution_count": 70,
   "id": "94471cda",
   "metadata": {},
   "outputs": [],
   "source": [
    "import matplotlib.pyplot as plt"
   ]
  },
  {
   "cell_type": "code",
   "execution_count": 58,
   "id": "4c8cfe07",
   "metadata": {},
   "outputs": [],
   "source": [
    "epochs = 100\n",
    "lr = 1e-3\n",
    "batch_size = 64\n",
    "img_dims = (96,96,3)\n",
    "\n",
    "data = []\n",
    "labels = []\n",
    "\n",
    "\n",
    "image_files = [f for f in glob.glob(r'C:/Users/patil/ML_project/Gender/gender_dataset_face' + \"/**/*\", recursive=True) if not os.path.isdir(f)]\n",
    "random.shuffle(image_files)"
   ]
  },
  {
   "cell_type": "code",
   "execution_count": 59,
   "id": "571e71be",
   "metadata": {},
   "outputs": [],
   "source": [
    "for img in image_files:\n",
    "\n",
    "    image = cv2.imread(img)\n",
    "    \n",
    "    image = cv2.resize(image, (img_dims[0],img_dims[1]))\n",
    "    image = img_to_array(image)\n",
    "    data.append(image)\n",
    "\n",
    "    label = img.split(os.path.sep)[-2]\n",
    "    if label == \"woman\":\n",
    "        label = 1\n",
    "    else:\n",
    "        label = 0\n",
    "        \n",
    "    labels.append([label]) "
   ]
  },
  {
   "cell_type": "code",
   "execution_count": 60,
   "id": "b9219ecd",
   "metadata": {},
   "outputs": [],
   "source": [
    "data = np.array(data, dtype=\"float\") / 255.0\n",
    "labels = np.array(labels)"
   ]
  },
  {
   "cell_type": "code",
   "execution_count": 61,
   "id": "7f14889c",
   "metadata": {},
   "outputs": [],
   "source": [
    "(trainX, testX, trainY, testY) = train_test_split(data, labels, test_size=0.2,random_state=42)"
   ]
  },
  {
   "cell_type": "code",
   "execution_count": 62,
   "id": "8ec6e316",
   "metadata": {},
   "outputs": [],
   "source": [
    "trainY = to_categorical(trainY, num_classes=2) # [[1, 0], [0, 1], [0, 1], ...]\n",
    "testY = to_categorical(testY, num_classes=2)"
   ]
  },
  {
   "cell_type": "code",
   "execution_count": 63,
   "id": "18a4c9ff",
   "metadata": {},
   "outputs": [],
   "source": [
    "aug = ImageDataGenerator(rotation_range=25, width_shift_range=0.1,\n",
    "                         height_shift_range=0.1, shear_range=0.2, zoom_range=0.2,\n",
    "                         horizontal_flip=True, fill_mode=\"nearest\")"
   ]
  },
  {
   "cell_type": "code",
   "execution_count": 65,
   "id": "656dd880",
   "metadata": {},
   "outputs": [],
   "source": [
    "def build(width, height, depth, classes):\n",
    "    model = Sequential()\n",
    "    inputShape = (height, width, depth)\n",
    "    chanDim = -1\n",
    "\n",
    "    if K.image_data_format() == \"channels_first\": #Returns a string, either 'channels_first' or 'channels_last'\n",
    "        inputShape = (depth, height, width)\n",
    "        chanDim = 1\n",
    "    \n",
    "\n",
    "    model.add(Conv2D(32, (3,3), padding=\"same\", input_shape=inputShape))\n",
    "    model.add(Activation(\"relu\"))\n",
    "    model.add(BatchNormalization(axis=chanDim))\n",
    "    model.add(MaxPooling2D(pool_size=(3,3)))\n",
    "    model.add(Dropout(0.25))\n",
    "\n",
    "    model.add(Conv2D(64, (3,3), padding=\"same\"))\n",
    "    model.add(Activation(\"relu\"))\n",
    "    model.add(BatchNormalization(axis=chanDim))\n",
    "\n",
    "    model.add(Conv2D(64, (3,3), padding=\"same\"))\n",
    "    model.add(Activation(\"relu\"))\n",
    "    model.add(BatchNormalization(axis=chanDim))\n",
    "    model.add(MaxPooling2D(pool_size=(2,2)))\n",
    "    model.add(Dropout(0.25))\n",
    "\n",
    "    model.add(Conv2D(128, (3,3), padding=\"same\"))\n",
    "    model.add(Activation(\"relu\"))\n",
    "    model.add(BatchNormalization(axis=chanDim))\n",
    "\n",
    "    model.add(Conv2D(128, (3,3), padding=\"same\"))\n",
    "    model.add(Activation(\"relu\"))\n",
    "    model.add(BatchNormalization(axis=chanDim))\n",
    "    model.add(MaxPooling2D(pool_size=(2,2)))\n",
    "    model.add(Dropout(0.25))\n",
    "\n",
    "    model.add(Flatten())\n",
    "    model.add(Dense(1024))\n",
    "    model.add(Activation(\"relu\"))\n",
    "    model.add(BatchNormalization())\n",
    "    model.add(Dropout(0.5))\n",
    "\n",
    "    model.add(Dense(classes))\n",
    "    model.add(Activation(\"sigmoid\"))\n",
    "\n",
    "    return model"
   ]
  },
  {
   "cell_type": "code",
   "execution_count": 66,
   "id": "04fe41de",
   "metadata": {},
   "outputs": [
    {
     "name": "stderr",
     "output_type": "stream",
     "text": [
      "C:\\Users\\patil\\anaconda3\\lib\\site-packages\\keras\\optimizer_v2\\adam.py:105: UserWarning: The `lr` argument is deprecated, use `learning_rate` instead.\n",
      "  super(Adam, self).__init__(name, **kwargs)\n"
     ]
    }
   ],
   "source": [
    "model = build(width=img_dims[0], height=img_dims[1], depth=img_dims[2],\n",
    "                            classes=2)\n",
    "opt = Adam(lr=lr, decay=lr/epochs)\n",
    "model.compile(loss=\"binary_crossentropy\", optimizer=opt, metrics=[\"accuracy\"])"
   ]
  },
  {
   "cell_type": "code",
   "execution_count": 67,
   "id": "f722ec00",
   "metadata": {
    "scrolled": true
   },
   "outputs": [
    {
     "name": "stderr",
     "output_type": "stream",
     "text": [
      "C:\\Users\\patil\\AppData\\Local\\Temp/ipykernel_17252/3978930398.py:1: UserWarning: `Model.fit_generator` is deprecated and will be removed in a future version. Please use `Model.fit`, which supports generators.\n",
      "  history = model.fit_generator(aug.flow(trainX, trainY, batch_size=batch_size),\n"
     ]
    },
    {
     "name": "stdout",
     "output_type": "stream",
     "text": [
      "Epoch 1/100\n",
      "28/28 [==============================] - 30s 1s/step - loss: 0.7945 - accuracy: 0.7187 - val_loss: 0.7166 - val_accuracy: 0.5087\n",
      "Epoch 2/100\n",
      "28/28 [==============================] - 30s 1s/step - loss: 0.4936 - accuracy: 0.8091 - val_loss: 0.6490 - val_accuracy: 0.5216\n",
      "Epoch 3/100\n",
      "28/28 [==============================] - 29s 1s/step - loss: 0.4264 - accuracy: 0.8383 - val_loss: 0.8254 - val_accuracy: 0.4913\n",
      "Epoch 4/100\n",
      "28/28 [==============================] - 37s 1s/step - loss: 0.4022 - accuracy: 0.8372 - val_loss: 0.6822 - val_accuracy: 0.4978\n",
      "Epoch 5/100\n",
      "28/28 [==============================] - 31s 1s/step - loss: 0.3198 - accuracy: 0.8759 - val_loss: 1.1238 - val_accuracy: 0.4913\n",
      "Epoch 6/100\n",
      "28/28 [==============================] - 30s 1s/step - loss: 0.3182 - accuracy: 0.8681 - val_loss: 0.8443 - val_accuracy: 0.4913\n",
      "Epoch 7/100\n",
      "28/28 [==============================] - 42s 2s/step - loss: 0.3314 - accuracy: 0.8641 - val_loss: 0.6446 - val_accuracy: 0.5325\n",
      "Epoch 8/100\n",
      "28/28 [==============================] - 46s 2s/step - loss: 0.2438 - accuracy: 0.9029 - val_loss: 0.6638 - val_accuracy: 0.5628\n",
      "Epoch 9/100\n",
      "28/28 [==============================] - 46s 2s/step - loss: 0.2697 - accuracy: 0.8972 - val_loss: 0.4781 - val_accuracy: 0.7511\n",
      "Epoch 10/100\n",
      "28/28 [==============================] - 44s 2s/step - loss: 0.2261 - accuracy: 0.9175 - val_loss: 0.6374 - val_accuracy: 0.5909\n",
      "Epoch 11/100\n",
      "28/28 [==============================] - 46s 2s/step - loss: 0.2265 - accuracy: 0.9102 - val_loss: 1.0976 - val_accuracy: 0.5195\n",
      "Epoch 12/100\n",
      "28/28 [==============================] - 40s 1s/step - loss: 0.1880 - accuracy: 0.9264 - val_loss: 0.9357 - val_accuracy: 0.6147\n",
      "Epoch 13/100\n",
      "28/28 [==============================] - 40s 1s/step - loss: 0.1899 - accuracy: 0.9259 - val_loss: 1.1769 - val_accuracy: 0.5260\n",
      "Epoch 14/100\n",
      "28/28 [==============================] - 40s 1s/step - loss: 0.1983 - accuracy: 0.9287 - val_loss: 1.1626 - val_accuracy: 0.5238\n",
      "Epoch 15/100\n",
      "28/28 [==============================] - 40s 1s/step - loss: 0.1600 - accuracy: 0.9416 - val_loss: 0.5576 - val_accuracy: 0.7662\n",
      "Epoch 16/100\n",
      "28/28 [==============================] - 44s 2s/step - loss: 0.1343 - accuracy: 0.9495 - val_loss: 0.3471 - val_accuracy: 0.8788\n",
      "Epoch 17/100\n",
      "28/28 [==============================] - 41s 1s/step - loss: 0.1699 - accuracy: 0.9360 - val_loss: 0.1574 - val_accuracy: 0.9307\n",
      "Epoch 18/100\n",
      "28/28 [==============================] - 38s 1s/step - loss: 0.1291 - accuracy: 0.9506 - val_loss: 0.3128 - val_accuracy: 0.8896\n",
      "Epoch 19/100\n",
      "28/28 [==============================] - 40s 1s/step - loss: 0.1412 - accuracy: 0.9540 - val_loss: 0.1475 - val_accuracy: 0.9416\n",
      "Epoch 20/100\n",
      "28/28 [==============================] - 39s 1s/step - loss: 0.1189 - accuracy: 0.9551 - val_loss: 0.7506 - val_accuracy: 0.7208\n",
      "Epoch 21/100\n",
      "28/28 [==============================] - 38s 1s/step - loss: 0.1162 - accuracy: 0.9545 - val_loss: 0.2072 - val_accuracy: 0.9177\n",
      "Epoch 22/100\n",
      "28/28 [==============================] - 41s 1s/step - loss: 0.1571 - accuracy: 0.9408 - val_loss: 0.1364 - val_accuracy: 0.9459\n",
      "Epoch 23/100\n",
      "28/28 [==============================] - 40s 1s/step - loss: 0.1287 - accuracy: 0.9512 - val_loss: 0.0686 - val_accuracy: 0.9697\n",
      "Epoch 24/100\n",
      "28/28 [==============================] - 40s 1s/step - loss: 0.1324 - accuracy: 0.9483 - val_loss: 0.1643 - val_accuracy: 0.9459\n",
      "Epoch 25/100\n",
      "28/28 [==============================] - 40s 1s/step - loss: 0.1003 - accuracy: 0.9635 - val_loss: 0.0968 - val_accuracy: 0.9719\n",
      "Epoch 26/100\n",
      "28/28 [==============================] - 39s 1s/step - loss: 0.1163 - accuracy: 0.9551 - val_loss: 0.1691 - val_accuracy: 0.9394\n",
      "Epoch 27/100\n",
      "28/28 [==============================] - 39s 1s/step - loss: 0.1076 - accuracy: 0.9568 - val_loss: 0.2164 - val_accuracy: 0.9242\n",
      "Epoch 28/100\n",
      "28/28 [==============================] - 39s 1s/step - loss: 0.1096 - accuracy: 0.9551 - val_loss: 0.0864 - val_accuracy: 0.9697\n",
      "Epoch 29/100\n",
      "28/28 [==============================] - 40s 1s/step - loss: 0.0905 - accuracy: 0.9646 - val_loss: 0.1509 - val_accuracy: 0.9459\n",
      "Epoch 30/100\n",
      "28/28 [==============================] - 40s 1s/step - loss: 0.0969 - accuracy: 0.9624 - val_loss: 0.2207 - val_accuracy: 0.9307\n",
      "Epoch 31/100\n",
      "28/28 [==============================] - 38s 1s/step - loss: 0.0939 - accuracy: 0.9660 - val_loss: 0.1600 - val_accuracy: 0.9459\n",
      "Epoch 32/100\n",
      "28/28 [==============================] - 43s 2s/step - loss: 0.1052 - accuracy: 0.9663 - val_loss: 0.2458 - val_accuracy: 0.9199\n",
      "Epoch 33/100\n",
      "28/28 [==============================] - 34s 1s/step - loss: 0.0942 - accuracy: 0.9590 - val_loss: 0.4503 - val_accuracy: 0.8831\n",
      "Epoch 34/100\n",
      "28/28 [==============================] - 34s 1s/step - loss: 0.0858 - accuracy: 0.9652 - val_loss: 0.2494 - val_accuracy: 0.9264\n",
      "Epoch 35/100\n",
      "28/28 [==============================] - 34s 1s/step - loss: 0.0866 - accuracy: 0.9652 - val_loss: 0.0743 - val_accuracy: 0.9762\n",
      "Epoch 36/100\n",
      "28/28 [==============================] - 33s 1s/step - loss: 0.0805 - accuracy: 0.9708 - val_loss: 0.5851 - val_accuracy: 0.8831\n",
      "Epoch 37/100\n",
      "28/28 [==============================] - 34s 1s/step - loss: 0.0866 - accuracy: 0.9657 - val_loss: 0.1044 - val_accuracy: 0.9740\n",
      "Epoch 38/100\n",
      "28/28 [==============================] - 33s 1s/step - loss: 0.0746 - accuracy: 0.9714 - val_loss: 1.0290 - val_accuracy: 0.7576\n",
      "Epoch 39/100\n",
      "28/28 [==============================] - 33s 1s/step - loss: 0.0881 - accuracy: 0.9686 - val_loss: 0.1171 - val_accuracy: 0.9697\n",
      "Epoch 40/100\n",
      "28/28 [==============================] - 33s 1s/step - loss: 0.0869 - accuracy: 0.9660 - val_loss: 0.0645 - val_accuracy: 0.9784\n",
      "Epoch 41/100\n",
      "28/28 [==============================] - 33s 1s/step - loss: 0.0682 - accuracy: 0.9753 - val_loss: 0.1012 - val_accuracy: 0.9610\n",
      "Epoch 42/100\n",
      "28/28 [==============================] - 33s 1s/step - loss: 0.0833 - accuracy: 0.9697 - val_loss: 0.1256 - val_accuracy: 0.9502\n",
      "Epoch 43/100\n",
      "28/28 [==============================] - 33s 1s/step - loss: 0.0825 - accuracy: 0.9646 - val_loss: 0.1638 - val_accuracy: 0.9416\n",
      "Epoch 44/100\n",
      "28/28 [==============================] - 34s 1s/step - loss: 0.0815 - accuracy: 0.9730 - val_loss: 0.1006 - val_accuracy: 0.9632\n",
      "Epoch 45/100\n",
      "28/28 [==============================] - 33s 1s/step - loss: 0.0607 - accuracy: 0.9749 - val_loss: 0.3641 - val_accuracy: 0.9004\n",
      "Epoch 46/100\n",
      "28/28 [==============================] - 33s 1s/step - loss: 0.0802 - accuracy: 0.9714 - val_loss: 0.3924 - val_accuracy: 0.9091\n",
      "Epoch 47/100\n",
      "28/28 [==============================] - 34s 1s/step - loss: 0.0692 - accuracy: 0.9719 - val_loss: 0.0692 - val_accuracy: 0.9762\n",
      "Epoch 48/100\n",
      "28/28 [==============================] - 36s 1s/step - loss: 0.0854 - accuracy: 0.9646 - val_loss: 0.2858 - val_accuracy: 0.9134\n",
      "Epoch 49/100\n",
      "28/28 [==============================] - 34s 1s/step - loss: 0.0679 - accuracy: 0.9742 - val_loss: 0.1562 - val_accuracy: 0.9459\n",
      "Epoch 50/100\n",
      "28/28 [==============================] - 34s 1s/step - loss: 0.0793 - accuracy: 0.9669 - val_loss: 0.4219 - val_accuracy: 0.8723\n",
      "Epoch 51/100\n",
      "28/28 [==============================] - 34s 1s/step - loss: 0.0774 - accuracy: 0.9674 - val_loss: 0.1530 - val_accuracy: 0.9567\n",
      "Epoch 52/100\n",
      "28/28 [==============================] - 34s 1s/step - loss: 0.0586 - accuracy: 0.9775 - val_loss: 0.0921 - val_accuracy: 0.9719\n",
      "Epoch 53/100\n",
      "28/28 [==============================] - 34s 1s/step - loss: 0.0648 - accuracy: 0.9787 - val_loss: 0.1062 - val_accuracy: 0.9675\n",
      "Epoch 54/100\n",
      "28/28 [==============================] - 34s 1s/step - loss: 0.0613 - accuracy: 0.9787 - val_loss: 0.0746 - val_accuracy: 0.9740\n",
      "Epoch 55/100\n",
      "28/28 [==============================] - 34s 1s/step - loss: 0.0642 - accuracy: 0.9764 - val_loss: 0.0791 - val_accuracy: 0.9762\n",
      "Epoch 56/100\n",
      "28/28 [==============================] - 34s 1s/step - loss: 0.0515 - accuracy: 0.9787 - val_loss: 0.0793 - val_accuracy: 0.9697\n",
      "Epoch 57/100\n",
      "28/28 [==============================] - 29s 1s/step - loss: 0.0562 - accuracy: 0.9803 - val_loss: 0.3622 - val_accuracy: 0.8896\n",
      "Epoch 58/100\n",
      "28/28 [==============================] - 29s 1s/step - loss: 0.0585 - accuracy: 0.9792 - val_loss: 0.1391 - val_accuracy: 0.9589\n"
     ]
    },
    {
     "name": "stdout",
     "output_type": "stream",
     "text": [
      "Epoch 59/100\n",
      "28/28 [==============================] - 32s 1s/step - loss: 0.0576 - accuracy: 0.9742 - val_loss: 0.1168 - val_accuracy: 0.9654\n",
      "Epoch 60/100\n",
      "28/28 [==============================] - 31s 1s/step - loss: 0.0530 - accuracy: 0.9815 - val_loss: 0.0736 - val_accuracy: 0.9719\n",
      "Epoch 61/100\n",
      "28/28 [==============================] - 39s 1s/step - loss: 0.0636 - accuracy: 0.9730 - val_loss: 0.0736 - val_accuracy: 0.9697\n",
      "Epoch 62/100\n",
      "28/28 [==============================] - 37s 1s/step - loss: 0.0541 - accuracy: 0.9787 - val_loss: 0.3547 - val_accuracy: 0.9199\n",
      "Epoch 63/100\n",
      "28/28 [==============================] - 34s 1s/step - loss: 0.0525 - accuracy: 0.9854 - val_loss: 0.1644 - val_accuracy: 0.9459\n",
      "Epoch 64/100\n",
      "28/28 [==============================] - 34s 1s/step - loss: 0.0594 - accuracy: 0.9798 - val_loss: 0.0712 - val_accuracy: 0.9762\n",
      "Epoch 65/100\n",
      "28/28 [==============================] - 35s 1s/step - loss: 0.0521 - accuracy: 0.9820 - val_loss: 0.0692 - val_accuracy: 0.9827\n",
      "Epoch 66/100\n",
      "28/28 [==============================] - 35s 1s/step - loss: 0.0501 - accuracy: 0.9798 - val_loss: 0.1745 - val_accuracy: 0.9394\n",
      "Epoch 67/100\n",
      "28/28 [==============================] - 36s 1s/step - loss: 0.0711 - accuracy: 0.9764 - val_loss: 0.3401 - val_accuracy: 0.9069\n",
      "Epoch 68/100\n",
      "28/28 [==============================] - 36s 1s/step - loss: 0.0551 - accuracy: 0.9759 - val_loss: 0.0917 - val_accuracy: 0.9719\n",
      "Epoch 69/100\n",
      "28/28 [==============================] - 34s 1s/step - loss: 0.0363 - accuracy: 0.9893 - val_loss: 0.1007 - val_accuracy: 0.9740\n",
      "Epoch 70/100\n",
      "28/28 [==============================] - 38s 1s/step - loss: 0.0579 - accuracy: 0.9798 - val_loss: 0.1439 - val_accuracy: 0.9610\n",
      "Epoch 71/100\n",
      "28/28 [==============================] - 30s 1s/step - loss: 0.0621 - accuracy: 0.9747 - val_loss: 0.0636 - val_accuracy: 0.9697\n",
      "Epoch 72/100\n",
      "28/28 [==============================] - 30s 1s/step - loss: 0.0471 - accuracy: 0.9798 - val_loss: 0.0735 - val_accuracy: 0.9675\n",
      "Epoch 73/100\n",
      "28/28 [==============================] - 30s 1s/step - loss: 0.0535 - accuracy: 0.9792 - val_loss: 0.2008 - val_accuracy: 0.9481\n",
      "Epoch 74/100\n",
      "28/28 [==============================] - 30s 1s/step - loss: 0.0298 - accuracy: 0.9871 - val_loss: 0.0907 - val_accuracy: 0.9740\n",
      "Epoch 75/100\n",
      "28/28 [==============================] - 31s 1s/step - loss: 0.0380 - accuracy: 0.9865 - val_loss: 0.0825 - val_accuracy: 0.9675\n",
      "Epoch 76/100\n",
      "28/28 [==============================] - 30s 1s/step - loss: 0.0425 - accuracy: 0.9826 - val_loss: 0.9924 - val_accuracy: 0.7641\n",
      "Epoch 77/100\n",
      "28/28 [==============================] - 30s 1s/step - loss: 0.0568 - accuracy: 0.9803 - val_loss: 0.0530 - val_accuracy: 0.9827\n",
      "Epoch 78/100\n",
      "28/28 [==============================] - 30s 1s/step - loss: 0.0525 - accuracy: 0.9832 - val_loss: 0.0740 - val_accuracy: 0.9805\n",
      "Epoch 79/100\n",
      "28/28 [==============================] - 30s 1s/step - loss: 0.0516 - accuracy: 0.9787 - val_loss: 0.0715 - val_accuracy: 0.9762\n",
      "Epoch 80/100\n",
      "28/28 [==============================] - 30s 1s/step - loss: 0.0402 - accuracy: 0.9871 - val_loss: 0.1294 - val_accuracy: 0.9632\n",
      "Epoch 81/100\n",
      "28/28 [==============================] - 30s 1s/step - loss: 0.0261 - accuracy: 0.9916 - val_loss: 0.1473 - val_accuracy: 0.9459\n",
      "Epoch 82/100\n",
      "28/28 [==============================] - 30s 1s/step - loss: 0.0438 - accuracy: 0.9854 - val_loss: 0.1721 - val_accuracy: 0.9567\n",
      "Epoch 83/100\n",
      "28/28 [==============================] - 30s 1s/step - loss: 0.0767 - accuracy: 0.9764 - val_loss: 0.0838 - val_accuracy: 0.9719\n",
      "Epoch 84/100\n",
      "28/28 [==============================] - 30s 1s/step - loss: 0.0643 - accuracy: 0.9736 - val_loss: 0.5540 - val_accuracy: 0.8420\n",
      "Epoch 85/100\n",
      "28/28 [==============================] - 30s 1s/step - loss: 0.0669 - accuracy: 0.9787 - val_loss: 0.0875 - val_accuracy: 0.9805\n",
      "Epoch 86/100\n",
      "28/28 [==============================] - 30s 1s/step - loss: 0.0480 - accuracy: 0.9809 - val_loss: 0.5952 - val_accuracy: 0.8593\n",
      "Epoch 87/100\n",
      "28/28 [==============================] - 30s 1s/step - loss: 0.0444 - accuracy: 0.9843 - val_loss: 0.0617 - val_accuracy: 0.9784\n",
      "Epoch 88/100\n",
      "28/28 [==============================] - 30s 1s/step - loss: 0.0382 - accuracy: 0.9826 - val_loss: 0.0957 - val_accuracy: 0.9697\n",
      "Epoch 89/100\n",
      "28/28 [==============================] - 30s 1s/step - loss: 0.0517 - accuracy: 0.9826 - val_loss: 0.0825 - val_accuracy: 0.9719\n",
      "Epoch 90/100\n",
      "28/28 [==============================] - 30s 1s/step - loss: 0.0583 - accuracy: 0.9792 - val_loss: 0.1457 - val_accuracy: 0.9545\n",
      "Epoch 91/100\n",
      "28/28 [==============================] - 31s 1s/step - loss: 0.0537 - accuracy: 0.9775 - val_loss: 0.2559 - val_accuracy: 0.9177\n",
      "Epoch 92/100\n",
      "28/28 [==============================] - 31s 1s/step - loss: 0.0619 - accuracy: 0.9764 - val_loss: 0.1467 - val_accuracy: 0.9459\n",
      "Epoch 93/100\n",
      "28/28 [==============================] - 30s 1s/step - loss: 0.0583 - accuracy: 0.9798 - val_loss: 0.1724 - val_accuracy: 0.9502\n",
      "Epoch 94/100\n",
      "28/28 [==============================] - 31s 1s/step - loss: 0.0414 - accuracy: 0.9815 - val_loss: 0.1964 - val_accuracy: 0.9394\n",
      "Epoch 95/100\n",
      "28/28 [==============================] - 30s 1s/step - loss: 0.0396 - accuracy: 0.9815 - val_loss: 0.0710 - val_accuracy: 0.9719\n",
      "Epoch 96/100\n",
      "28/28 [==============================] - 37s 1s/step - loss: 0.0372 - accuracy: 0.9843 - val_loss: 0.3082 - val_accuracy: 0.9156\n",
      "Epoch 97/100\n",
      "28/28 [==============================] - 35s 1s/step - loss: 0.0352 - accuracy: 0.9860 - val_loss: 0.1412 - val_accuracy: 0.9567\n",
      "Epoch 98/100\n",
      "28/28 [==============================] - 39s 1s/step - loss: 0.0423 - accuracy: 0.9848 - val_loss: 0.0804 - val_accuracy: 0.9740\n",
      "Epoch 99/100\n",
      "28/28 [==============================] - 41s 1s/step - loss: 0.0499 - accuracy: 0.9848 - val_loss: 0.1586 - val_accuracy: 0.9567\n",
      "Epoch 100/100\n",
      "28/28 [==============================] - 49s 2s/step - loss: 0.0437 - accuracy: 0.9848 - val_loss: 0.1297 - val_accuracy: 0.9632\n"
     ]
    }
   ],
   "source": [
    "history = model.fit_generator(aug.flow(trainX, trainY, batch_size=batch_size),\n",
    "                        validation_data=(testX,testY),\n",
    "                        steps_per_epoch=len(trainX) // batch_size,\n",
    "                        epochs=epochs, verbose=1)"
   ]
  },
  {
   "cell_type": "code",
   "execution_count": 68,
   "id": "1545cb46",
   "metadata": {},
   "outputs": [
    {
     "name": "stdout",
     "output_type": "stream",
     "text": [
      "INFO:tensorflow:Assets written to: gender_detection.model\\assets\n"
     ]
    }
   ],
   "source": [
    "model.save('gender_detection.model')"
   ]
  },
  {
   "cell_type": "code",
   "execution_count": 74,
   "id": "3471e6a3",
   "metadata": {},
   "outputs": [
    {
     "data": {
      "text/plain": [
       "<matplotlib.legend.Legend at 0x119aec0d520>"
      ]
     },
     "execution_count": 74,
     "metadata": {},
     "output_type": "execute_result"
    },
    {
     "data": {
      "image/png": "[encoded data removed]",
      "text/plain": [
       "<Figure size 432x288 with 1 Axes>"
      ]
     },
     "metadata": {},
     "output_type": "display_data"
    }
   ],
   "source": [
    "plt.style.use(\"ggplot\")\n",
    "plt.figure()\n",
    "N = epochs\n",
    "plt.plot(np.arange(0,N), history.history[\"loss\"], label=\"train_loss\")\n",
    "plt.plot(np.arange(0,N), history.history[\"val_loss\"], label=\"val_loss\")\n",
    "plt.plot(np.arange(0,N), history.history[\"accuracy\"], label=\"train_acc\")\n",
    "plt.plot(np.arange(0,N), history.history[\"val_accuracy\"], label=\"val_acc\")\n",
    "\n",
    "plt.title(\"Training Loss and Accuracy\")\n",
    "plt.xlabel(\"Epoch #\")\n",
    "plt.ylabel(\"Loss/Accuracy\")\n",
    "plt.legend(loc=\"upper right\")"
   ]
  },
  {
   "cell_type": "code",
   "execution_count": 77,
   "id": "803ae478",
   "metadata": {},
   "outputs": [],
   "source": [
    "from tensorflow.keras.preprocessing.image import img_to_array\n",
    "from tensorflow.keras.models import load_model\n",
    "import numpy as np\n",
    "import cv2\n",
    "import os\n",
    "import cvlib as cv"
   ]
  },
  {
   "cell_type": "code",
   "execution_count": 78,
   "id": "d4e5f947",
   "metadata": {},
   "outputs": [],
   "source": [
    "model = load_model('gender_detection.model')"
   ]
  },
  {
   "cell_type": "code",
   "execution_count": 79,
   "id": "d744da2d",
   "metadata": {},
   "outputs": [],
   "source": [
    "webcam = cv2.VideoCapture(0)\n",
    "    \n",
    "classes = ['man','woman']"
   ]
  },
  {
   "cell_type": "code",
   "execution_count": 80,
   "id": "e15fe487",
   "metadata": {},
   "outputs": [
    {
     "ename": "KeyboardInterrupt",
     "evalue": "",
     "output_type": "error",
     "traceback": [
      "\u001b[1;31m---------------------------------------------------------------------------\u001b[0m",
      "\u001b[1;31mKeyboardInterrupt\u001b[0m                         Traceback (most recent call last)",
      "\u001b[1;32m~\\AppData\\Local\\Temp/ipykernel_17252/366121898.py\u001b[0m in \u001b[0;36m<module>\u001b[1;34m\u001b[0m\n\u001b[0;32m      5\u001b[0m \u001b[1;33m\u001b[0m\u001b[0m\n\u001b[0;32m      6\u001b[0m     \u001b[1;31m# apply face detection\u001b[0m\u001b[1;33m\u001b[0m\u001b[1;33m\u001b[0m\u001b[0m\n\u001b[1;32m----> 7\u001b[1;33m     \u001b[0mface\u001b[0m\u001b[1;33m,\u001b[0m \u001b[0mconfidence\u001b[0m \u001b[1;33m=\u001b[0m \u001b[0mcv\u001b[0m\u001b[1;33m.\u001b[0m\u001b[0mdetect_face\u001b[0m\u001b[1;33m(\u001b[0m\u001b[0mframe\u001b[0m\u001b[1;33m)\u001b[0m\u001b[1;33m\u001b[0m\u001b[1;33m\u001b[0m\u001b[0m\n\u001b[0m\u001b[0;32m      8\u001b[0m \u001b[1;33m\u001b[0m\u001b[0m\n\u001b[0;32m      9\u001b[0m \u001b[1;33m\u001b[0m\u001b[0m\n",
      "\u001b[1;32m~\\anaconda3\\lib\\site-packages\\cvlib\\face_detection.py\u001b[0m in \u001b[0;36mdetect_face\u001b[1;34m(image, threshold, enable_gpu)\u001b[0m\n\u001b[0;32m     48\u001b[0m \u001b[1;33m\u001b[0m\u001b[0m\n\u001b[0;32m     49\u001b[0m     \u001b[1;31m# apply face detection\u001b[0m\u001b[1;33m\u001b[0m\u001b[1;33m\u001b[0m\u001b[0m\n\u001b[1;32m---> 50\u001b[1;33m     \u001b[0mdetections\u001b[0m \u001b[1;33m=\u001b[0m \u001b[0mnet\u001b[0m\u001b[1;33m.\u001b[0m\u001b[0mforward\u001b[0m\u001b[1;33m(\u001b[0m\u001b[1;33m)\u001b[0m\u001b[1;33m\u001b[0m\u001b[1;33m\u001b[0m\u001b[0m\n\u001b[0m\u001b[0;32m     51\u001b[0m \u001b[1;33m\u001b[0m\u001b[0m\n\u001b[0;32m     52\u001b[0m     \u001b[0mfaces\u001b[0m \u001b[1;33m=\u001b[0m \u001b[1;33m[\u001b[0m\u001b[1;33m]\u001b[0m\u001b[1;33m\u001b[0m\u001b[1;33m\u001b[0m\u001b[0m\n",
      "\u001b[1;31mKeyboardInterrupt\u001b[0m: "
     ]
    }
   ],
   "source": [
    "while webcam.isOpened():\n",
    "    status, frame = webcam.read()\n",
    "\n",
    "    face, confidence = cv.detect_face(frame)\n",
    "\n",
    "\n",
    "\n",
    "    for idx, f in enumerate(face):\n",
    "\n",
    "    \n",
    "        (startX, startY) = f[0], f[1]\n",
    "        (endX, endY) = f[2], f[3]\n",
    "\n",
    "\n",
    "        cv2.rectangle(frame, (startX,startY), (endX,endY), (0,255,0), 2)\n",
    "\n",
    "\n",
    "        face_crop = np.copy(frame[startY:endY,startX:endX])\n",
    "\n",
    "        if (face_crop.shape[0]) < 10 or (face_crop.shape[1]) < 10:\n",
    "            continue\n",
    "\n",
    "\n",
    "        face_crop = cv2.resize(face_crop, (96,96))\n",
    "        face_crop = face_crop.astype(\"float\") / 255.0\n",
    "        face_crop = img_to_array(face_crop)\n",
    "        face_crop = np.expand_dims(face_crop, axis=0)\n",
    "\n",
    "\n",
    "        conf = model.predict(face_crop)[0] # model.predict return a 2D matrix, ex: [[9.9993384e-01 7.4850512e-05]]\n",
    "\n",
    "\n",
    "        idx = np.argmax(conf)\n",
    "        label = classes[idx]\n",
    "\n",
    "        label = \"{}: {:.2f}%\".format(label, conf[idx] * 100)\n",
    "\n",
    "        Y = startY - 10 if startY - 10 > 10 else startY + 10\n",
    "\n",
    "\n",
    "        cv2.putText(frame, label, (startX, Y),  cv2.FONT_HERSHEY_SIMPLEX,\n",
    "                    0.7, (0, 255, 0), 2)\n",
    "\n",
    "\n",
    "    cv2.imshow(\"gender detection\", frame)\n",
    "\n",
    "\n",
    "    if cv2.waitKey(1) & 0xFF == ord('q'):\n",
    "        break\n",
    "\n",
    "\n",
    "webcam.release()\n",
    "cv2.destroyAllWindows()"
   ]
  }
 ],
 "metadata": {
  "kernelspec": {
   "display_name": "Python 3 (ipykernel)",
   "language": "python",
   "name": "python3"
  },
  "language_info": {
   "codemirror_mode": {
    "name": "ipython",
    "version": 3
   },
   "file_extension": ".py",
   "mimetype": "text/x-python",
   "name": "python",
   "nbconvert_exporter": "python",
   "pygments_lexer": "ipython3",
   "version": "3.9.7"
  }
 },
 "nbformat": 4,
 "nbformat_minor": 5
}
